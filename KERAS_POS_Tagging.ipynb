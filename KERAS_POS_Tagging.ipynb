{
  "nbformat": 4,
  "nbformat_minor": 0,
  "metadata": {
    "colab": {
      "name": "KERAS POS-Tagging.ipynb",
      "version": "0.3.2",
      "provenance": [],
      "collapsed_sections": [],
      "include_colab_link": true
    },
    "kernelspec": {
      "name": "python3",
      "display_name": "Python 3"
    },
    "accelerator": "GPU"
  },
  "cells": [
    {
      "cell_type": "markdown",
      "metadata": {
        "id": "view-in-github",
        "colab_type": "text"
      },
      "source": [
        "<a href=\"https://colab.research.google.com/github/miweru/colab-experiments/blob/master/KERAS_POS_Tagging.ipynb\" target=\"_parent\"><img src=\"https://colab.research.google.com/assets/colab-badge.svg\" alt=\"Open In Colab\"/></a>"
      ]
    },
    {
      "metadata": {
        "id": "ynvR-7D8bwss",
        "colab_type": "code",
        "outputId": "e4030bb1-2b1e-43d7-d918-b80e944b942f",
        "colab": {
          "base_uri": "https://localhost:8080/",
          "height": 161
        }
      },
      "cell_type": "code",
      "source": [
        "#Das hier sind unsere Trainingsdaten.\n",
        "! git clone https://github.com/UniversalDependencies/UD_German-GSD.git\n",
        "!ls"
      ],
      "execution_count": 1,
      "outputs": [
        {
          "output_type": "stream",
          "text": [
            "Cloning into 'UD_German-GSD'...\n",
            "remote: Enumerating objects: 8, done.\u001b[K\n",
            "remote: Counting objects: 100% (8/8), done.\u001b[K\n",
            "remote: Compressing objects: 100% (7/7), done.\u001b[K\n",
            "remote: Total 437 (delta 2), reused 5 (delta 1), pack-reused 429\u001b[K\n",
            "Receiving objects: 100% (437/437), 18.45 MiB | 7.92 MiB/s, done.\n",
            "Resolving deltas: 100% (280/280), done.\n",
            "sample_data  UD_German-GSD\n"
          ],
          "name": "stdout"
        }
      ]
    },
    {
      "metadata": {
        "id": "4AKKLaaqlOa6",
        "colab_type": "code",
        "outputId": "563719bd-c5ca-461f-8034-67c0ae86af83",
        "colab": {
          "base_uri": "https://localhost:8080/",
          "height": 89
        }
      },
      "cell_type": "code",
      "source": [
        "!ls -l"
      ],
      "execution_count": 1,
      "outputs": [
        {
          "output_type": "stream",
          "text": [
            "total 23256\n",
            "drwxr-xr-x 2 root root     4096 Nov 29 18:21 sample_data\n",
            "-rw-r--r-- 1 root root 23805266 Dec  4 06:36 Savedvecs.gz\n",
            "drwxr-xr-x 4 root root     4096 Dec  4 06:19 UD_German-GSD\n"
          ],
          "name": "stdout"
        }
      ]
    },
    {
      "metadata": {
        "id": "9avVBCg1cQee",
        "colab_type": "code",
        "outputId": "1e545328-bd08-4b7d-b484-b542c4ee0276",
        "colab": {
          "base_uri": "https://localhost:8080/",
          "height": 3673
        }
      },
      "cell_type": "code",
      "source": [
        "for ln, line in enumerate(open(\"UD_German-GSD/de_gsd-ud-train.conllu\")):\n",
        "  if ln>100:\n",
        "    break\n",
        "  print(line)"
      ],
      "execution_count": 0,
      "outputs": [
        {
          "output_type": "stream",
          "text": [
            "# sent_id = train-s1\n",
            "\n",
            "# text = Sehr gute Beratung, schnelle Behebung der Probleme, so stelle ich mir Kundenservice vor.\n",
            "\n",
            "1\tSehr\tsehr\tADV\tADV\t_\t2\tadvmod\t_\t_\n",
            "\n",
            "2\tgute\tgut\tADJ\tADJA\tCase=Nom|Gender=Fem|Number=Sing\t3\tamod\t_\t_\n",
            "\n",
            "3\tBeratung\tBeratung\tNOUN\tNN\tCase=Nom|Gender=Fem|Number=Sing\t0\troot\t_\tSpaceAfter=No\n",
            "\n",
            "4\t,\t,\tPUNCT\t$,\t_\t6\tpunct\t_\t_\n",
            "\n",
            "5\tschnelle\tschnell\tADJ\tADJA\tCase=Nom|Gender=Fem|Number=Sing\t6\tamod\t_\t_\n",
            "\n",
            "6\tBehebung\tBehebung\tNOUN\tNN\tCase=Nom|Gender=Fem|Number=Sing\t3\tconj\t_\t_\n",
            "\n",
            "7\tder\tder\tDET\tART\tCase=Gen|Definite=Def|Gender=Neut|Number=Plur|PronType=Art\t8\tdet\t_\t_\n",
            "\n",
            "8\tProbleme\tProblem\tNOUN\tNN\tCase=Gen|Gender=Neut|Number=Plur\t6\tnmod\t_\tSpaceAfter=No\n",
            "\n",
            "9\t,\t,\tPUNCT\t$,\t_\t11\tpunct\t_\t_\n",
            "\n",
            "10\tso\tso\tADV\tADV\t_\t11\tadvmod\t_\t_\n",
            "\n",
            "11\tstelle\tstellen\tVERB\tVVFIN\tMood=Ind|Number=Sing|Person=1|Tense=Pres|VerbForm=Fin\t3\tparataxis\t_\t_\n",
            "\n",
            "12\tich\tich\tPRON\tPPER\tCase=Nom|Number=Sing|Person=1|PronType=Prs\t11\tnsubj\t_\t_\n",
            "\n",
            "13\tmir\tich\tPRON\tPRF\tCase=Dat|Number=Sing|Person=1|PronType=Prs|Reflex=Yes\t11\tiobj\t_\t_\n",
            "\n",
            "14\tKundenservice\tKundenservice\tNOUN\tNN\tCase=Acc|Gender=Neut|Number=Sing\t11\tobj\t_\t_\n",
            "\n",
            "15\tvor\tvor\tADP\tPTKVZ\t_\t11\tcompound:prt\t_\tSpaceAfter=No\n",
            "\n",
            "16\t.\t.\tPUNCT\t$.\t_\t3\tpunct\t_\t_\n",
            "\n",
            "\n",
            "\n",
            "# sent_id = train-s2\n",
            "\n",
            "# text = Die Kosten sind definitiv auch im Rahmen.\n",
            "\n",
            "1\tDie\tder\tDET\tART\tCase=Nom|Number=Plur|PronType=Art\t2\tdet\t_\t_\n",
            "\n",
            "2\tKosten\tKosten\tNOUN\tNN\tCase=Nom|Number=Plur\t3\tnsubj:pass\t_\t_\n",
            "\n",
            "3\tsind\tsein\tVERB\tVAFIN\tMood=Ind|Number=Plur|Person=3|Tense=Pres|VerbForm=Fin\t0\troot\t_\t_\n",
            "\n",
            "4\tdefinitiv\tdefinitiv\tADV\tADJD\t_\t3\tadvmod\t_\t_\n",
            "\n",
            "5\tauch\tauch\tADV\tADV\t_\t3\tadvmod\t_\t_\n",
            "\n",
            "6-7\tim\t_\t_\t_\t_\t_\t_\t_\t_\n",
            "\n",
            "6\tin\tin\tADP\tAPPR\t_\t8\tcase\t_\t_\n",
            "\n",
            "7\tdem\tder\tDET\tART\tCase=Dat|Definite=Def|Gender=Masc|Number=Sing|PronType=Art\t8\tdet\t_\t_\n",
            "\n",
            "8\tRahmen\tRahmen\tNOUN\tNN\tCase=Dat|Gender=Masc|Number=Sing\t3\tobl\t_\tSpaceAfter=No\n",
            "\n",
            "9\t.\t.\tPUNCT\t$.\t_\t3\tpunct\t_\t_\n",
            "\n",
            "\n",
            "\n",
            "# sent_id = train-s3\n",
            "\n",
            "# text = Nette Gespräche, klasse Ergebnis\n",
            "\n",
            "1\tNette\tnett\tADJ\tADJA\tCase=Nom|Gender=Neut|Number=Plur\t2\tamod\t_\t_\n",
            "\n",
            "2\tGespräche\tGespräch\tNOUN\tNN\tCase=Nom|Gender=Neut|Number=Plur\t0\troot\t_\tSpaceAfter=No\n",
            "\n",
            "3\t,\t,\tPUNCT\t$,\t_\t5\tpunct\t_\t_\n",
            "\n",
            "4\tklasse\tKlasse\tADJ\tADJA\t_\t5\tamod\t_\t_\n",
            "\n",
            "5\tErgebnis\tErgebnis\tNOUN\tNN\tCase=Nom|Gender=Neut|Number=Sing\t2\tconj\t_\t_\n",
            "\n",
            "\n",
            "\n",
            "# sent_id = train-s4\n",
            "\n",
            "# text = Ich bin seit längerer Zeit zur Behandlung verschiedenster \"Leiden\" in der Physiotherapieraxis \"Gaby Montag\" im Vital Center und kann ausschließlich Positives berichten!\n",
            "\n",
            "1\tIch\tich\tPRON\tPPER\tCase=Nom|Number=Sing|Person=1|PronType=Prs\t2\tnsubj\t_\t_\n",
            "\n",
            "2\tbin\tsein\tVERB\tVAFIN\tMood=Ind|Number=Sing|Person=1|Tense=Pres|VerbForm=Fin\t0\troot\t_\t_\n",
            "\n",
            "3\tseit\tseit\tADP\tAPPR\t_\t5\tcase\t_\t_\n",
            "\n",
            "4\tlängerer\tlang\tADJ\tADJA\tCase=Dat|Gender=Fem|Number=Sing\t5\tamod\t_\t_\n",
            "\n",
            "5\tZeit\tZeit\tNOUN\tNN\tCase=Dat|Gender=Fem|Number=Sing\t2\tobl\t_\t_\n",
            "\n",
            "6-7\tzur\t_\t_\t_\t_\t_\t_\t_\t_\n",
            "\n",
            "6\tzu\tzu\tADP\tAPPR\t_\t8\tcase\t_\t_\n",
            "\n",
            "7\tder\tder\tDET\tART\tCase=Dat|Definite=Def|Gender=Fem|Number=Sing|PronType=Art\t8\tdet\t_\t_\n",
            "\n",
            "8\tBehandlung\tBehandlung\tNOUN\tNN\tCase=Dat|Gender=Fem|Number=Sing\t2\tobl\t_\t_\n",
            "\n",
            "9\tverschiedenster\tverschieden\tADJ\tADJA\tCase=Gen|Gender=Neut|Number=Plur\t11\tamod\t_\t_\n",
            "\n",
            "10\t\"\t\"\tPUNCT\t$(\t_\t11\tpunct\t_\tSpaceAfter=No\n",
            "\n",
            "11\tLeiden\tLeiden\tNOUN\tNN\tCase=Gen|Gender=Neut|Number=Plur\t8\tnmod\t_\tSpaceAfter=No\n",
            "\n",
            "12\t\"\t\"\tPUNCT\t$(\t_\t11\tpunct\t_\t_\n",
            "\n",
            "13\tin\tin\tADP\tAPPR\t_\t15\tcase\t_\t_\n",
            "\n",
            "14\tder\tder\tDET\tART\tCase=Dat|Definite=Def|Gender=Fem|Number=Sing|PronType=Art\t15\tdet\t_\t_\n",
            "\n",
            "15\tPhysiotherapieraxis\tPhysiotherapieraxis\tNOUN\tNN\tCase=Dat|Gender=Fem|Number=Sing\t2\tobl\t_\t_\n",
            "\n",
            "16\t\"\t\"\tPUNCT\t$(\t_\t17\tpunct\t_\tSpaceAfter=No\n",
            "\n",
            "17\tGaby\tGaby\tPROPN\tNE\tCase=Nom|Gender=Fem|Number=Sing\t15\tappos\t_\t_\n",
            "\n",
            "18\tMontag\tMontag\tPROPN\tNE\tCase=Acc|Gender=Masc|Number=Sing\t17\tflat\t_\tSpaceAfter=No\n",
            "\n",
            "19\t\"\t\"\tPUNCT\t$(\t_\t17\tpunct\t_\t_\n",
            "\n",
            "20-21\tim\t_\t_\t_\t_\t_\t_\t_\t_\n",
            "\n",
            "20\tin\tin\tADP\tAPPR\t_\t22\tcase\t_\t_\n",
            "\n",
            "21\tdem\tder\tDET\tART\tCase=Dat|Definite=Def|Gender=Neut|Number=Sing|PronType=Art\t22\tdet\t_\t_\n",
            "\n",
            "22\tVital\tVital\tPROPN\tNN\tCase=Dat|Gender=Neut|Number=Sing\t15\tnmod\t_\t_\n",
            "\n",
            "23\tCenter\tCenter\tPROPN\tNE\tCase=Dat|Gender=Neut|Number=Sing\t22\tflat\t_\t_\n",
            "\n",
            "24\tund\tund\tCCONJ\tKON\t_\t28\tcc\t_\t_\n",
            "\n",
            "25\tkann\tkönnen\tAUX\tVMFIN\tMood=Ind|Number=Sing|Person=3|Tense=Pres|VerbForm=Fin\t28\taux\t_\t_\n",
            "\n",
            "26\tausschließlich\tausschließlich\tADV\tADV\t_\t28\tadvmod\t_\t_\n",
            "\n",
            "27\tPositives\tPositive\tNOUN\tNN\tCase=Acc|Gender=Neut|Number=Sing\t28\tobj\t_\t_\n",
            "\n",
            "28\tberichten\tberichten\tVERB\tVVINF\tVerbForm=Inf\t2\tconj\t_\tSpaceAfter=No\n",
            "\n",
            "29\t!\t!\tPUNCT\t$.\t_\t2\tpunct\t_\t_\n",
            "\n",
            "\n",
            "\n",
            "# sent_id = train-s5\n",
            "\n",
            "# text = Ob bei der Terminvergabe, den Behandlungsräumen oder den individuell zugeschnittenen Trainingsplänen sind alle Mitarbeiter äußerst kompetent und flexibel.\n",
            "\n",
            "1\tOb\tob\tCCONJ\tKOUS\t_\t4\tcc\t_\t_\n",
            "\n",
            "2\tbei\tbei\tADP\tAPPR\t_\t4\tcase\t_\t_\n",
            "\n",
            "3\tder\tder\tDET\tART\tCase=Dat|Definite=Def|Gender=Fem|Number=Sing|PronType=Art\t4\tdet\t_\t_\n",
            "\n",
            "4\tTerminvergabe\tTerminvergabe\tNOUN\tNN\tCase=Dat|Gender=Fem|Number=Sing\t17\tnmod\t_\tSpaceAfter=No\n",
            "\n",
            "5\t,\t,\tPUNCT\t$,\t_\t7\tpunct\t_\t_\n",
            "\n",
            "6\tden\tder\tDET\tART\tCase=Dat|Definite=Def|Gender=Masc|Number=Plur|PronType=Art\t7\tdet\t_\t_\n",
            "\n",
            "7\tBehandlungsräumen\tBehandlungsraum\tNOUN\tNN\tCase=Dat|Gender=Masc|Number=Plur\t4\tconj\t_\t_\n",
            "\n",
            "8\toder\toder\tCCONJ\tKON\t_\t12\tcc\t_\t_\n",
            "\n",
            "9\tden\tder\tDET\tART\tCase=Dat|Definite=Def|Gender=Neut|Number=Plur|PronType=Art\t12\tdet\t_\t_\n",
            "\n",
            "10\tindividuell\tindividuell\tADV\tADJD\t_\t11\tadvmod\t_\t_\n",
            "\n",
            "11\tzugeschnittenen\tzugeschnitten\tADJ\tADJA\tCase=Dat|Gender=Masc|Number=Plur\t12\tamod\t_\t_\n",
            "\n",
            "12\tTrainingsplänen\tTrainingsplan\tNOUN\tNN\tCase=Dat|Gender=Masc|Number=Plur\t4\tconj\t_\t_\n",
            "\n",
            "13\tsind\tsein\tAUX\tVAFIN\tMood=Ind|Number=Plur|Person=3|Tense=Pres|VerbForm=Fin\t17\tcop\t_\t_\n",
            "\n",
            "14\talle\talle\tPRON\tPIAT\tCase=Nom|Definite=Ind|Gender=Masc|Number=Plur|PronType=Ind\t15\tdet\t_\t_\n",
            "\n",
            "15\tMitarbeiter\tMitarbeiter\tNOUN\tNN\tCase=Nom|Gender=Masc|Number=Plur\t17\tnsubj\t_\t_\n",
            "\n",
            "16\täußerst\täußerst\tADV\tADV\t_\t17\tadvmod\t_\t_\n",
            "\n",
            "17\tkompetent\tkompetent\tADJ\tADJD\t_\t0\troot\t_\t_\n",
            "\n",
            "18\tund\tund\tCCONJ\tKON\t_\t19\tcc\t_\t_\n",
            "\n",
            "19\tflexibel\tflexibel\tADJ\tADJD\t_\t17\tconj\t_\tSpaceAfter=No\n",
            "\n",
            "20\t.\t.\tPUNCT\t$.\t_\t17\tpunct\t_\t_\n",
            "\n",
            "\n",
            "\n",
            "# sent_id = train-s6\n",
            "\n",
            "# text = Sauberkeit, Ordnung und Freundlichkeit brauche ich hier nicht zu erwähnen, denn das gehört für mich zum Standard, der aber auch noch übertroffen wird.\n",
            "\n",
            "1\tSauberkeit\tSauberkeit\tNOUN\tNN\tCase=Nom|Gender=Fem|Number=Sing\t11\tobj\t_\tSpaceAfter=No\n",
            "\n",
            "2\t,\t,\tPUNCT\t$,\t_\t3\tpunct\t_\t_\n",
            "\n"
          ],
          "name": "stdout"
        }
      ]
    },
    {
      "metadata": {
        "id": "XcKDKVSLd1EC",
        "colab_type": "code",
        "colab": {}
      },
      "cell_type": "code",
      "source": [
        "import pandas as pd\n",
        "ddata=dict()\n",
        "#data=dict()\n",
        "for ln, line in enumerate(open(\"UD_German-GSD/de_gsd-ud-train.conllu\")):\n",
        "  if line.startswith(\"# sent_id\"):\n",
        "    sid=line.lstrip(\"# sent_id = \").strip()\n",
        "    #data[sid]=dict()\n",
        "    #sdata=data[sid]\n",
        "  if line.startswith(\"#\"):\n",
        "    continue\n",
        "  cont=line.split(\"\\t\")\n",
        "  if len(cont)<2:\n",
        "    continue\n",
        "  if cont[3]==\"_\":\n",
        "    continue\n",
        "  #sdata[cont[0]]={\"word\":cont[1].lower(),\"tag\":cont[3]}\n",
        "  ddata[sid+\"_\"+\"{0:03}\".format(int(cont[0]))]={\"lineNumber\":int(cont[0]),\"word_l\":cont[1].lower(),\"tag\":cont[3]}\n",
        "  \n",
        "for ln, line in enumerate(open(\"UD_German-GSD/de_gsd-ud-dev.conllu\")):\n",
        "  if line.startswith(\"# sent_id\"):\n",
        "    sid=line.lstrip(\"# sent_id = \").strip()\n",
        "    #data[sid]=dict()\n",
        "    #sdata=data[sid]\n",
        "  if line.startswith(\"#\"):\n",
        "    continue\n",
        "  cont=line.split(\"\\t\")\n",
        "  if len(cont)<2:\n",
        "    continue\n",
        "  if cont[3]==\"_\":\n",
        "    continue\n",
        "  #sdata[cont[0]]={\"word\":cont[1].lower(),\"tag\":cont[3]}\n",
        "  ddata[sid+\"_\"+\"{0:03}\".format(int(cont[0]))]={\"lineNumber\":int(cont[0]),\"word_l\":cont[1].lower(),\"tag\":cont[3]}\n",
        "\n",
        "#eval=dict()\n",
        "for ln, line in enumerate(open(\"UD_German-GSD/de_gsd-ud-test.conllu\")):\n",
        "  if line.startswith(\"# sent_id\"):\n",
        "    sid=line.lstrip(\"# sent_id = \").strip()\n",
        "    #data[sid]=dict()\n",
        "    #sdata=data[sid]\n",
        "  if line.startswith(\"#\"):\n",
        "    continue\n",
        "  cont=line.split(\"\\t\")\n",
        "  if len(cont)<2:\n",
        "    continue\n",
        "  if cont[3]==\"_\":\n",
        "    continue\n",
        "  #sdata[cont[0]]={\"word\":cont[1].lower(),\"tag\":cont[3]}\n",
        "  ddata[sid+\"_\"+\"{0:03}\".format(int(cont[0]))]={\"lineNumber\":int(cont[0]),\"word_l\":cont[1].lower(),\"tag\":cont[3]}\n",
        "myframe=pd.DataFrame(ddata)"
      ],
      "execution_count": 0,
      "outputs": []
    },
    {
      "metadata": {
        "id": "kYop51JjgWFs",
        "colab_type": "code",
        "colab": {}
      },
      "cell_type": "code",
      "source": [
        ""
      ],
      "execution_count": 0,
      "outputs": []
    },
    {
      "metadata": {
        "id": "uWeSVBk_hxUv",
        "colab_type": "code",
        "outputId": "f8499012-a8ce-4c6e-93a0-5d30aea87a03",
        "colab": {
          "base_uri": "https://localhost:8080/",
          "height": 208
        }
      },
      "cell_type": "code",
      "source": [
        "myframe"
      ],
      "execution_count": 0,
      "outputs": [
        {
          "output_type": "execute_result",
          "data": {
            "text/html": [
              "<div>\n",
              "<style scoped>\n",
              "    .dataframe tbody tr th:only-of-type {\n",
              "        vertical-align: middle;\n",
              "    }\n",
              "\n",
              "    .dataframe tbody tr th {\n",
              "        vertical-align: top;\n",
              "    }\n",
              "\n",
              "    .dataframe thead th {\n",
              "        text-align: right;\n",
              "    }\n",
              "</style>\n",
              "<table border=\"1\" class=\"dataframe\">\n",
              "  <thead>\n",
              "    <tr style=\"text-align: right;\">\n",
              "      <th></th>\n",
              "      <th>rain-s10000_001</th>\n",
              "      <th>rain-s10000_002</th>\n",
              "      <th>rain-s10000_003</th>\n",
              "      <th>rain-s10000_004</th>\n",
              "      <th>rain-s10000_005</th>\n",
              "      <th>rain-s10000_006</th>\n",
              "      <th>rain-s10000_007</th>\n",
              "      <th>rain-s10000_008</th>\n",
              "      <th>rain-s10000_009</th>\n",
              "      <th>rain-s10000_010</th>\n",
              "      <th>...</th>\n",
              "      <th>v-s9_006</th>\n",
              "      <th>v-s9_007</th>\n",
              "      <th>v-s9_008</th>\n",
              "      <th>v-s9_009</th>\n",
              "      <th>v-s9_010</th>\n",
              "      <th>v-s9_011</th>\n",
              "      <th>v-s9_012</th>\n",
              "      <th>v-s9_013</th>\n",
              "      <th>v-s9_014</th>\n",
              "      <th>v-s9_015</th>\n",
              "    </tr>\n",
              "  </thead>\n",
              "  <tbody>\n",
              "    <tr>\n",
              "      <th>lineNumber</th>\n",
              "      <td>1</td>\n",
              "      <td>2</td>\n",
              "      <td>3</td>\n",
              "      <td>4</td>\n",
              "      <td>5</td>\n",
              "      <td>6</td>\n",
              "      <td>7</td>\n",
              "      <td>8</td>\n",
              "      <td>9</td>\n",
              "      <td>10</td>\n",
              "      <td>...</td>\n",
              "      <td>6</td>\n",
              "      <td>7</td>\n",
              "      <td>8</td>\n",
              "      <td>9</td>\n",
              "      <td>10</td>\n",
              "      <td>11</td>\n",
              "      <td>12</td>\n",
              "      <td>13</td>\n",
              "      <td>14</td>\n",
              "      <td>15</td>\n",
              "    </tr>\n",
              "    <tr>\n",
              "      <th>tag</th>\n",
              "      <td>ADP</td>\n",
              "      <td>DET</td>\n",
              "      <td>NOUN</td>\n",
              "      <td>NUM</td>\n",
              "      <td>ADP</td>\n",
              "      <td>NUM</td>\n",
              "      <td>AUX</td>\n",
              "      <td>PRON</td>\n",
              "      <td>ADP</td>\n",
              "      <td>NOUN</td>\n",
              "      <td>...</td>\n",
              "      <td>PRON</td>\n",
              "      <td>AUX</td>\n",
              "      <td>ADJ</td>\n",
              "      <td>ADP</td>\n",
              "      <td>DET</td>\n",
              "      <td>NOUN</td>\n",
              "      <td>CCONJ</td>\n",
              "      <td>DET</td>\n",
              "      <td>NOUN</td>\n",
              "      <td>PUNCT</td>\n",
              "    </tr>\n",
              "    <tr>\n",
              "      <th>word_l</th>\n",
              "      <td>in</td>\n",
              "      <td>den</td>\n",
              "      <td>jahren</td>\n",
              "      <td>1974</td>\n",
              "      <td>bis</td>\n",
              "      <td>1982</td>\n",
              "      <td>war</td>\n",
              "      <td>er</td>\n",
              "      <td>als</td>\n",
              "      <td>jugendtrainer</td>\n",
              "      <td>...</td>\n",
              "      <td>ich</td>\n",
              "      <td>bin</td>\n",
              "      <td>begeistert</td>\n",
              "      <td>von</td>\n",
              "      <td>der</td>\n",
              "      <td>auswahl</td>\n",
              "      <td>und</td>\n",
              "      <td>der</td>\n",
              "      <td>qualität</td>\n",
              "      <td>.</td>\n",
              "    </tr>\n",
              "  </tbody>\n",
              "</table>\n",
              "<p>3 rows × 276290 columns</p>\n",
              "</div>"
            ],
            "text/plain": [
              "           rain-s10000_001 rain-s10000_002 rain-s10000_003 rain-s10000_004  \\\n",
              "lineNumber               1               2               3               4   \n",
              "tag                    ADP             DET            NOUN             NUM   \n",
              "word_l                  in             den          jahren            1974   \n",
              "\n",
              "           rain-s10000_005 rain-s10000_006 rain-s10000_007 rain-s10000_008  \\\n",
              "lineNumber               5               6               7               8   \n",
              "tag                    ADP             NUM             AUX            PRON   \n",
              "word_l                 bis            1982             war              er   \n",
              "\n",
              "           rain-s10000_009 rain-s10000_010   ...    v-s9_006 v-s9_007  \\\n",
              "lineNumber               9              10   ...           6        7   \n",
              "tag                    ADP            NOUN   ...        PRON      AUX   \n",
              "word_l                 als   jugendtrainer   ...         ich      bin   \n",
              "\n",
              "              v-s9_008 v-s9_009 v-s9_010 v-s9_011 v-s9_012 v-s9_013  v-s9_014  \\\n",
              "lineNumber           8        9       10       11       12       13        14   \n",
              "tag                ADJ      ADP      DET     NOUN    CCONJ      DET      NOUN   \n",
              "word_l      begeistert      von      der  auswahl      und      der  qualität   \n",
              "\n",
              "           v-s9_015  \n",
              "lineNumber       15  \n",
              "tag           PUNCT  \n",
              "word_l            .  \n",
              "\n",
              "[3 rows x 276290 columns]"
            ]
          },
          "metadata": {
            "tags": []
          },
          "execution_count": 5
        }
      ]
    },
    {
      "metadata": {
        "id": "5jZcDWpeljck",
        "colab_type": "code",
        "colab": {}
      },
      "cell_type": "code",
      "source": [
        "#from tensorflow import keras"
      ],
      "execution_count": 0,
      "outputs": []
    },
    {
      "metadata": {
        "id": "2Cs_so9pnsJ6",
        "colab_type": "code",
        "colab": {}
      },
      "cell_type": "code",
      "source": [
        "#Gut, wandeln wir das mal in Sequenzen von Sätzen um:\n",
        "target=[]\n",
        "train=[]\n",
        "md=[]\n",
        "mt=[]\n",
        "\n",
        "for ln in myframe:\n",
        "  mo=myframe[ln]\n",
        "  if mo[\"lineNumber\"]==1:\n",
        "    if md:\n",
        "      target.append(mt)\n",
        "      train.append(md)\n",
        "    md=[]\n",
        "    mt=[]\n",
        "  md.append(mo[\"word_l\"])\n",
        "  mt.append(mo[\"tag\"])\n",
        "md.append(mo[\"word_l\"])\n",
        "mt.append(mo[\"tag\"])"
      ],
      "execution_count": 0,
      "outputs": []
    },
    {
      "metadata": {
        "id": "SXWGg7nhEpi2",
        "colab_type": "code",
        "colab": {}
      },
      "cell_type": "code",
      "source": [
        "\"\"\"etarget=[]\n",
        "etrain=[]\n",
        "md=[]\n",
        "mt=[]\n",
        "\n",
        "for ln in evaluation:\n",
        "  mo=evaluation[ln]\n",
        "  if mo[\"lineNumber\"]==1:\n",
        "    if md:\n",
        "      etarget.append(mt)\n",
        "      etrain.append(md)\n",
        "    md=[]\n",
        "    mt=[]\n",
        "  md.append(mo[\"word_l\"])\n",
        "  mt.append(mo[\"tag\"])\n",
        "etarget.append(mt)\n",
        "etrain.append(md)\"\"\""
      ],
      "execution_count": 0,
      "outputs": []
    },
    {
      "metadata": {
        "id": "be0Z8wMZrBf_",
        "colab_type": "code",
        "colab": {}
      },
      "cell_type": "code",
      "source": [
        "#del(myframe)\n",
        "\n",
        "#del(evaluation)"
      ],
      "execution_count": 0,
      "outputs": []
    },
    {
      "metadata": {
        "id": "rK-nN7XSp2ML",
        "colab_type": "code",
        "colab": {}
      },
      "cell_type": "code",
      "source": [
        "#myframe[ln]"
      ],
      "execution_count": 0,
      "outputs": []
    },
    {
      "metadata": {
        "id": "ib9KyHvOtA46",
        "colab_type": "code",
        "colab": {
          "base_uri": "https://localhost:8080/",
          "height": 973
        },
        "outputId": "f8f315b8-a123-4153-d7c0-f95f15246ce1"
      },
      "cell_type": "code",
      "source": [
        "\"\"\"\n",
        "Das hier sind Schritte, um das Modell so klein zu machen, dass es auch in den Arbeitsspeicher von Colab passt.\n",
        "Dafür lade ich es, und schreibe jedes enthaltene Wort in einen neuen Vektor\n",
        "Im nächsten durchlauf können wir dann die Embedding Matrix aus den Savedvecs erstellen\n",
        "\n",
        "\n",
        "\"\"\"\n",
        "if 1==1:\n",
        "  !pip install gensim\n",
        "  from gensim.models.keyedvectors import KeyedVectors \n",
        "\n",
        "  wordset={word for sentence in train+etrain for word in sentence}\n",
        "  !wget https://s3-us-west-1.amazonaws.com/fasttext-vectors/word-vectors-v2/cc.de.300.vec.gz\n",
        "  model=KeyedVectors.load_word2vec_format(\"cc.de.300.vec.gz\",binary=False)\n",
        "  !rm cc.de.300.* \n",
        "  mymodel=KeyedVectors(300)\n",
        "  for word in wordset:\n",
        "    if word in model:\n",
        "      mymodel.add(word, model[word])\n",
        "  del(model)\n",
        "  mymodel.save(\"Savedvecs.gz\")"
      ],
      "execution_count": 5,
      "outputs": [
        {
          "output_type": "stream",
          "text": [
            "Collecting gensim\n",
            "\u001b[?25l  Downloading https://files.pythonhosted.org/packages/27/a4/d10c0acc8528d838cda5eede0ee9c784caa598dbf40bd0911ff8d067a7eb/gensim-3.6.0-cp36-cp36m-manylinux1_x86_64.whl (23.6MB)\n",
            "\u001b[K    100% |████████████████████████████████| 23.6MB 1.3MB/s \n",
            "\u001b[?25hRequirement already satisfied: six>=1.5.0 in /usr/local/lib/python3.6/dist-packages (from gensim) (1.11.0)\n",
            "Requirement already satisfied: numpy>=1.11.3 in /usr/local/lib/python3.6/dist-packages (from gensim) (1.14.6)\n",
            "Requirement already satisfied: scipy>=0.18.1 in /usr/local/lib/python3.6/dist-packages (from gensim) (1.1.0)\n",
            "Collecting smart-open>=1.2.1 (from gensim)\n",
            "  Downloading https://files.pythonhosted.org/packages/4b/1f/6f27e3682124de63ac97a0a5876da6186de6c19410feab66c1543afab055/smart_open-1.7.1.tar.gz\n",
            "Collecting boto>=2.32 (from smart-open>=1.2.1->gensim)\n",
            "\u001b[?25l  Downloading https://files.pythonhosted.org/packages/23/10/c0b78c27298029e4454a472a1919bde20cb182dab1662cec7f2ca1dcc523/boto-2.49.0-py2.py3-none-any.whl (1.4MB)\n",
            "\u001b[K    100% |████████████████████████████████| 1.4MB 13.3MB/s \n",
            "\u001b[?25hCollecting bz2file (from smart-open>=1.2.1->gensim)\n",
            "  Downloading https://files.pythonhosted.org/packages/61/39/122222b5e85cd41c391b68a99ee296584b2a2d1d233e7ee32b4532384f2d/bz2file-0.98.tar.gz\n",
            "Requirement already satisfied: requests in /usr/local/lib/python3.6/dist-packages (from smart-open>=1.2.1->gensim) (2.18.4)\n",
            "Collecting boto3 (from smart-open>=1.2.1->gensim)\n",
            "\u001b[?25l  Downloading https://files.pythonhosted.org/packages/a9/ab/de8fc0a6f21b2ecba1e78d86afbeba89171ef06fc77f63b3d7b4e8cf62ee/boto3-1.9.58-py2.py3-none-any.whl (128kB)\n",
            "\u001b[K    100% |████████████████████████████████| 133kB 29.2MB/s \n",
            "\u001b[?25hRequirement already satisfied: urllib3<1.23,>=1.21.1 in /usr/local/lib/python3.6/dist-packages (from requests->smart-open>=1.2.1->gensim) (1.22)\n",
            "Requirement already satisfied: certifi>=2017.4.17 in /usr/local/lib/python3.6/dist-packages (from requests->smart-open>=1.2.1->gensim) (2018.10.15)\n",
            "Requirement already satisfied: idna<2.7,>=2.5 in /usr/local/lib/python3.6/dist-packages (from requests->smart-open>=1.2.1->gensim) (2.6)\n",
            "Requirement already satisfied: chardet<3.1.0,>=3.0.2 in /usr/local/lib/python3.6/dist-packages (from requests->smart-open>=1.2.1->gensim) (3.0.4)\n",
            "Collecting jmespath<1.0.0,>=0.7.1 (from boto3->smart-open>=1.2.1->gensim)\n",
            "  Downloading https://files.pythonhosted.org/packages/b7/31/05c8d001f7f87f0f07289a5fc0fc3832e9a57f2dbd4d3b0fee70e0d51365/jmespath-0.9.3-py2.py3-none-any.whl\n",
            "Collecting botocore<1.13.0,>=1.12.58 (from boto3->smart-open>=1.2.1->gensim)\n",
            "\u001b[?25l  Downloading https://files.pythonhosted.org/packages/7c/f0/e1640f8aa77006d0261db35d80eb995668f3de5439ea2ff624b44a176852/botocore-1.12.58-py2.py3-none-any.whl (5.1MB)\n",
            "\u001b[K    100% |████████████████████████████████| 5.1MB 6.9MB/s \n",
            "\u001b[?25hCollecting s3transfer<0.2.0,>=0.1.10 (from boto3->smart-open>=1.2.1->gensim)\n",
            "\u001b[?25l  Downloading https://files.pythonhosted.org/packages/d7/14/2a0004d487464d120c9fb85313a75cd3d71a7506955be458eebfe19a6b1d/s3transfer-0.1.13-py2.py3-none-any.whl (59kB)\n",
            "\u001b[K    100% |████████████████████████████████| 61kB 23.5MB/s \n",
            "\u001b[?25hCollecting docutils>=0.10 (from botocore<1.13.0,>=1.12.58->boto3->smart-open>=1.2.1->gensim)\n",
            "\u001b[?25l  Downloading https://files.pythonhosted.org/packages/36/fa/08e9e6e0e3cbd1d362c3bbee8d01d0aedb2155c4ac112b19ef3cae8eed8d/docutils-0.14-py3-none-any.whl (543kB)\n",
            "\u001b[K    100% |████████████████████████████████| 552kB 24.0MB/s \n",
            "\u001b[?25hRequirement already satisfied: python-dateutil<3.0.0,>=2.1; python_version >= \"2.7\" in /usr/local/lib/python3.6/dist-packages (from botocore<1.13.0,>=1.12.58->boto3->smart-open>=1.2.1->gensim) (2.5.3)\n",
            "Building wheels for collected packages: smart-open, bz2file\n",
            "  Running setup.py bdist_wheel for smart-open ... \u001b[?25l-\b \b\\\b \bdone\n",
            "\u001b[?25h  Stored in directory: /root/.cache/pip/wheels/23/00/44/e5b939f7a80c04e32297dbd6d96fa3065af89ecf57e2b5f89f\n",
            "  Running setup.py bdist_wheel for bz2file ... \u001b[?25l-\b \bdone\n",
            "\u001b[?25h  Stored in directory: /root/.cache/pip/wheels/81/75/d6/e1317bf09bf1af5a30befc2a007869fa6e1f516b8f7c591cb9\n",
            "Successfully built smart-open bz2file\n",
            "Installing collected packages: boto, bz2file, jmespath, docutils, botocore, s3transfer, boto3, smart-open, gensim\n",
            "Successfully installed boto-2.49.0 boto3-1.9.58 botocore-1.12.58 bz2file-0.98 docutils-0.14 gensim-3.6.0 jmespath-0.9.3 s3transfer-0.1.13 smart-open-1.7.1\n",
            "--2018-12-04 06:20:47--  https://s3-us-west-1.amazonaws.com/fasttext-vectors/word-vectors-v2/cc.de.300.vec.gz\n",
            "Resolving s3-us-west-1.amazonaws.com (s3-us-west-1.amazonaws.com)... 54.231.236.37\n",
            "Connecting to s3-us-west-1.amazonaws.com (s3-us-west-1.amazonaws.com)|54.231.236.37|:443... connected.\n",
            "HTTP request sent, awaiting response... 200 OK\n",
            "Length: 1278030050 (1.2G) [binary/octet-stream]\n",
            "Saving to: ‘cc.de.300.vec.gz’\n",
            "\n",
            "cc.de.300.vec.gz    100%[===================>]   1.19G  21.7MB/s    in 57s     \n",
            "\n",
            "2018-12-04 06:21:45 (21.4 MB/s) - ‘cc.de.300.vec.gz’ saved [1278030050/1278030050]\n",
            "\n"
          ],
          "name": "stdout"
        }
      ]
    },
    {
      "metadata": {
        "id": "Uz5tWcDtDg0i",
        "colab_type": "code",
        "colab": {
          "base_uri": "https://localhost:8080/",
          "height": 361
        },
        "outputId": "9000b985-9308-4a7c-bcaf-1f6220d33f79"
      },
      "cell_type": "code",
      "source": [
        "!pip install gensim"
      ],
      "execution_count": 5,
      "outputs": [
        {
          "output_type": "stream",
          "text": [
            "Requirement already satisfied: gensim in /usr/local/lib/python3.6/dist-packages (3.6.0)\n",
            "Requirement already satisfied: smart-open>=1.2.1 in /usr/local/lib/python3.6/dist-packages (from gensim) (1.7.1)\n",
            "Requirement already satisfied: scipy>=0.18.1 in /usr/local/lib/python3.6/dist-packages (from gensim) (1.1.0)\n",
            "Requirement already satisfied: numpy>=1.11.3 in /usr/local/lib/python3.6/dist-packages (from gensim) (1.14.6)\n",
            "Requirement already satisfied: six>=1.5.0 in /usr/local/lib/python3.6/dist-packages (from gensim) (1.11.0)\n",
            "Requirement already satisfied: boto>=2.32 in /usr/local/lib/python3.6/dist-packages (from smart-open>=1.2.1->gensim) (2.49.0)\n",
            "Requirement already satisfied: requests in /usr/local/lib/python3.6/dist-packages (from smart-open>=1.2.1->gensim) (2.18.4)\n",
            "Requirement already satisfied: boto3 in /usr/local/lib/python3.6/dist-packages (from smart-open>=1.2.1->gensim) (1.9.58)\n",
            "Requirement already satisfied: bz2file in /usr/local/lib/python3.6/dist-packages (from smart-open>=1.2.1->gensim) (0.98)\n",
            "Requirement already satisfied: certifi>=2017.4.17 in /usr/local/lib/python3.6/dist-packages (from requests->smart-open>=1.2.1->gensim) (2018.10.15)\n",
            "Requirement already satisfied: chardet<3.1.0,>=3.0.2 in /usr/local/lib/python3.6/dist-packages (from requests->smart-open>=1.2.1->gensim) (3.0.4)\n",
            "Requirement already satisfied: urllib3<1.23,>=1.21.1 in /usr/local/lib/python3.6/dist-packages (from requests->smart-open>=1.2.1->gensim) (1.22)\n",
            "Requirement already satisfied: idna<2.7,>=2.5 in /usr/local/lib/python3.6/dist-packages (from requests->smart-open>=1.2.1->gensim) (2.6)\n",
            "Requirement already satisfied: s3transfer<0.2.0,>=0.1.10 in /usr/local/lib/python3.6/dist-packages (from boto3->smart-open>=1.2.1->gensim) (0.1.13)\n",
            "Requirement already satisfied: jmespath<1.0.0,>=0.7.1 in /usr/local/lib/python3.6/dist-packages (from boto3->smart-open>=1.2.1->gensim) (0.9.3)\n",
            "Requirement already satisfied: botocore<1.13.0,>=1.12.58 in /usr/local/lib/python3.6/dist-packages (from boto3->smart-open>=1.2.1->gensim) (1.12.58)\n",
            "Requirement already satisfied: docutils>=0.10 in /usr/local/lib/python3.6/dist-packages (from botocore<1.13.0,>=1.12.58->boto3->smart-open>=1.2.1->gensim) (0.14)\n",
            "Requirement already satisfied: python-dateutil<3.0.0,>=2.1; python_version >= \"2.7\" in /usr/local/lib/python3.6/dist-packages (from botocore<1.13.0,>=1.12.58->boto3->smart-open>=1.2.1->gensim) (2.5.3)\n"
          ],
          "name": "stdout"
        }
      ]
    },
    {
      "metadata": {
        "id": "A-qwtxd1tutl",
        "colab_type": "code",
        "colab": {}
      },
      "cell_type": "code",
      "source": [
        "\n"
      ],
      "execution_count": 0,
      "outputs": []
    },
    {
      "metadata": {
        "id": "XbE8GzJLt3D-",
        "colab_type": "code",
        "colab": {}
      },
      "cell_type": "code",
      "source": [
        ""
      ],
      "execution_count": 0,
      "outputs": []
    },
    {
      "metadata": {
        "id": "eY68CguSz5uf",
        "colab_type": "code",
        "colab": {}
      },
      "cell_type": "code",
      "source": [
        ""
      ],
      "execution_count": 0,
      "outputs": []
    },
    {
      "metadata": {
        "id": "PUeYnNhFuq-q",
        "colab_type": "code",
        "outputId": "5646540a-2c2d-4496-ff45-c30a8634989c",
        "colab": {
          "base_uri": "https://localhost:8080/",
          "height": 226
        }
      },
      "cell_type": "code",
      "source": [
        ""
      ],
      "execution_count": 0,
      "outputs": [
        {
          "output_type": "error",
          "ename": "NameError",
          "evalue": "ignored",
          "traceback": [
            "\u001b[0;31m---------------------------------------------------------------------------\u001b[0m",
            "\u001b[0;31mNameError\u001b[0m                                 Traceback (most recent call last)",
            "\u001b[0;32m<ipython-input-15-d28f8bda2dc9>\u001b[0m in \u001b[0;36m<module>\u001b[0;34m()\u001b[0m\n\u001b[0;32m----> 1\u001b[0;31m \u001b[0;32mfor\u001b[0m \u001b[0mword\u001b[0m \u001b[0;32min\u001b[0m \u001b[0mwordset\u001b[0m\u001b[0;34m:\u001b[0m\u001b[0;34m\u001b[0m\u001b[0;34m\u001b[0m\u001b[0m\n\u001b[0m\u001b[1;32m      2\u001b[0m   \u001b[0;32mif\u001b[0m \u001b[0mword\u001b[0m \u001b[0;32min\u001b[0m \u001b[0mmodel\u001b[0m\u001b[0;34m:\u001b[0m\u001b[0;34m\u001b[0m\u001b[0;34m\u001b[0m\u001b[0m\n\u001b[1;32m      3\u001b[0m     \u001b[0mmymodel\u001b[0m\u001b[0;34m.\u001b[0m\u001b[0madd\u001b[0m\u001b[0;34m(\u001b[0m\u001b[0mword\u001b[0m\u001b[0;34m,\u001b[0m \u001b[0mmodel\u001b[0m\u001b[0;34m[\u001b[0m\u001b[0mword\u001b[0m\u001b[0;34m]\u001b[0m\u001b[0;34m)\u001b[0m\u001b[0;34m\u001b[0m\u001b[0;34m\u001b[0m\u001b[0m\n\u001b[1;32m      4\u001b[0m \u001b[0;32mdel\u001b[0m\u001b[0;34m(\u001b[0m\u001b[0mmodel\u001b[0m\u001b[0;34m)\u001b[0m\u001b[0;34m\u001b[0m\u001b[0;34m\u001b[0m\u001b[0m\n",
            "\u001b[0;31mNameError\u001b[0m: name 'wordset' is not defined"
          ]
        }
      ]
    },
    {
      "metadata": {
        "id": "l_GSAcCPu68J",
        "colab_type": "code",
        "colab": {}
      },
      "cell_type": "code",
      "source": [
        "#mymodel.save(\"Savedvecs.gz\")"
      ],
      "execution_count": 0,
      "outputs": []
    },
    {
      "metadata": {
        "id": "oHns0xj1zmmj",
        "colab_type": "code",
        "colab": {}
      },
      "cell_type": "code",
      "source": [
        "!ls -l"
      ],
      "execution_count": 0,
      "outputs": []
    },
    {
      "metadata": {
        "id": "WxiApBv7oBU_",
        "colab_type": "code",
        "colab": {}
      },
      "cell_type": "code",
      "source": [
        "#line"
      ],
      "execution_count": 0,
      "outputs": []
    },
    {
      "metadata": {
        "id": "nz8LdUI5tmyr",
        "colab_type": "code",
        "colab": {}
      },
      "cell_type": "code",
      "source": [
        "KDW"
      ],
      "execution_count": 0,
      "outputs": []
    },
    {
      "metadata": {
        "id": "sJgr4tYCmkaN",
        "colab_type": "code",
        "outputId": "919599db-62a6-4cd3-d72a-09320471a9d1",
        "colab": {
          "base_uri": "https://localhost:8080/",
          "height": 35
        }
      },
      "cell_type": "code",
      "source": [
        "import keras"
      ],
      "execution_count": 8,
      "outputs": [
        {
          "output_type": "stream",
          "text": [
            "Using TensorFlow backend.\n"
          ],
          "name": "stderr"
        }
      ]
    },
    {
      "metadata": {
        "id": "tGHbxP1RlnBN",
        "colab_type": "code",
        "colab": {}
      },
      "cell_type": "code",
      "source": [
        "\n",
        "tokenizer=keras.preprocessing.text.Tokenizer()\n",
        "tokenizer.fit_on_texts(train)\n",
        "X1=tokenizer.texts_to_sequences(train)\n",
        "#EX=tokenizer.texts_to_sequences(etrain)\n",
        "#del(train)\n",
        "#del(etrain)"
      ],
      "execution_count": 0,
      "outputs": []
    },
    {
      "metadata": {
        "id": "fsL94d3s6NiQ",
        "colab_type": "code",
        "colab": {}
      },
      "cell_type": "code",
      "source": [
        "seqlength=max([len(item) for item in X1])"
      ],
      "execution_count": 0,
      "outputs": []
    },
    {
      "metadata": {
        "id": "rg-_Nwmv6Y1s",
        "colab_type": "code",
        "colab": {}
      },
      "cell_type": "code",
      "source": [
        "MAX_SEQUENCE_LENGTH=35\n",
        "X1=keras.preprocessing.sequence.pad_sequences(X1, maxlen=MAX_SEQUENCE_LENGTH, padding=\"pre\",truncating= 'post')\n",
        "#EX=keras.preprocessing.sequence.pad_sequences(EX, maxlen=MAX_SEQUENCE_LENGTH, padding=\"pre\",truncating= 'post')"
      ],
      "execution_count": 0,
      "outputs": []
    },
    {
      "metadata": {
        "id": "eQs3zYq_XPrV",
        "colab_type": "code",
        "colab": {}
      },
      "cell_type": "code",
      "source": [
        "X1.shape"
      ],
      "execution_count": 0,
      "outputs": []
    },
    {
      "metadata": {
        "id": "57yd_fp9d0nb",
        "colab_type": "code",
        "colab": {}
      },
      "cell_type": "code",
      "source": [
        "X1"
      ],
      "execution_count": 0,
      "outputs": []
    },
    {
      "metadata": {
        "id": "g20eWXNbx7BH",
        "colab_type": "code",
        "colab": {}
      },
      "cell_type": "code",
      "source": [
        "targetTokenizer=keras.preprocessing.text.Tokenizer()\n",
        "targetTokenizer.fit_on_texts(target)\n",
        "Y=targetTokenizer.texts_to_sequences(target)\n",
        "#EY=targetTokenizer.texts_to_sequences(etarget)"
      ],
      "execution_count": 0,
      "outputs": []
    },
    {
      "metadata": {
        "id": "bKH6EFG3m_aN",
        "colab_type": "code",
        "colab": {}
      },
      "cell_type": "code",
      "source": [
        "#ctarget=targetTokenizer.texts_to_sequences(target+etarget)"
      ],
      "execution_count": 0,
      "outputs": []
    },
    {
      "metadata": {
        "id": "oTblrpbknpoL",
        "colab_type": "code",
        "colab": {}
      },
      "cell_type": "code",
      "source": [
        "#Y=ctarget[:len(target)]\n",
        "#EY=ctarget[len(target):]"
      ],
      "execution_count": 0,
      "outputs": []
    },
    {
      "metadata": {
        "id": "66Eb_JqOn2tb",
        "colab_type": "code",
        "colab": {}
      },
      "cell_type": "code",
      "source": [
        ""
      ],
      "execution_count": 0,
      "outputs": []
    },
    {
      "metadata": {
        "id": "6eiTIkwzeVCn",
        "colab_type": "code",
        "colab": {}
      },
      "cell_type": "code",
      "source": [
        "Y"
      ],
      "execution_count": 0,
      "outputs": []
    },
    {
      "metadata": {
        "id": "OOhQDa4QAD1N",
        "colab_type": "code",
        "outputId": "5a9e4c13-7340-45f5-c123-1248ff2e376e",
        "colab": {
          "base_uri": "https://localhost:8080/",
          "height": 35
        }
      },
      "cell_type": "code",
      "source": [
        "numoftags=len({pos for sentence in target for pos in sentence})\n",
        "print(numoftags)"
      ],
      "execution_count": 71,
      "outputs": [
        {
          "output_type": "stream",
          "text": [
            "16\n"
          ],
          "name": "stdout"
        }
      ]
    },
    {
      "metadata": {
        "id": "-ziGDMVNnOaC",
        "colab_type": "code",
        "colab": {
          "base_uri": "https://localhost:8080/",
          "height": 35
        },
        "outputId": "a7ae5f8e-3ee8-4da7-da32-f009cb787f40"
      },
      "cell_type": "code",
      "source": [
        "#print(len({pos for sentence in etarget for pos in sentence}))"
      ],
      "execution_count": 14,
      "outputs": [
        {
          "output_type": "stream",
          "text": [
            "15\n"
          ],
          "name": "stdout"
        }
      ]
    },
    {
      "metadata": {
        "id": "_tj47HWPewJv",
        "colab_type": "code",
        "colab": {}
      },
      "cell_type": "code",
      "source": [
        "#Y=np.array([[i==num for i in range(numoftags)] for sentence in Y for num in sentence],dtype=np.bool)"
      ],
      "execution_count": 0,
      "outputs": []
    },
    {
      "metadata": {
        "id": "UfICJRYrfPM0",
        "colab_type": "code",
        "colab": {}
      },
      "cell_type": "code",
      "source": [
        "#EY=np.array([[i==num for i in range(numoftags)] for sentence in EY for num in sentence],dtype=np.bool)"
      ],
      "execution_count": 0,
      "outputs": []
    },
    {
      "metadata": {
        "id": "tUk9KoJ07Q1b",
        "colab_type": "code",
        "colab": {}
      },
      "cell_type": "code",
      "source": [
        "Y=keras.preprocessing.sequence.pad_sequences(Y, maxlen=MAX_SEQUENCE_LENGTH, padding=\"pre\",truncating= 'post')\n",
        "#EY=keras.preprocessing.sequence.pad_sequences(EY, maxlen=MAX_SEQUENCE_LENGTH, padding=\"pre\",truncating= 'post')"
      ],
      "execution_count": 0,
      "outputs": []
    },
    {
      "metadata": {
        "id": "lsfq6jAehFw8",
        "colab_type": "code",
        "colab": {}
      },
      "cell_type": "code",
      "source": [
        "import numpy as np"
      ],
      "execution_count": 0,
      "outputs": []
    },
    {
      "metadata": {
        "id": "4bNV8Twof-b9",
        "colab_type": "code",
        "colab": {}
      },
      "cell_type": "code",
      "source": [
        "np.bool"
      ],
      "execution_count": 0,
      "outputs": []
    },
    {
      "metadata": {
        "id": "Vc3PqImkeDGd",
        "colab_type": "code",
        "colab": {}
      },
      "cell_type": "code",
      "source": [
        "from keras.utils import to_categorical"
      ],
      "execution_count": 0,
      "outputs": []
    },
    {
      "metadata": {
        "id": "BMxZtqMqjbPt",
        "colab_type": "code",
        "colab": {}
      },
      "cell_type": "code",
      "source": [
        "Y=to_categorical(Y, num_classes=17)\n",
        "#EY=to_categorical(EY, num_classes=17)"
      ],
      "execution_count": 0,
      "outputs": []
    },
    {
      "metadata": {
        "id": "ryMTvumK7Vj-",
        "colab_type": "code",
        "colab": {}
      },
      "cell_type": "code",
      "source": [
        "Y.shape"
      ],
      "execution_count": 0,
      "outputs": []
    },
    {
      "metadata": {
        "id": "n0_kwoJ-hNB5",
        "colab_type": "code",
        "colab": {}
      },
      "cell_type": "code",
      "source": [
        "!ls -l"
      ],
      "execution_count": 0,
      "outputs": []
    },
    {
      "metadata": {
        "id": "SmErfuLfdVXO",
        "colab_type": "code",
        "colab": {}
      },
      "cell_type": "code",
      "source": [
        "EY.shape"
      ],
      "execution_count": 0,
      "outputs": []
    },
    {
      "metadata": {
        "id": "Dbx9Et4tyg6r",
        "colab_type": "code",
        "colab": {}
      },
      "cell_type": "code",
      "source": [
        ""
      ],
      "execution_count": 0,
      "outputs": []
    },
    {
      "metadata": {
        "id": "A--HWRtFy703",
        "colab_type": "code",
        "colab": {}
      },
      "cell_type": "code",
      "source": [
        "!pip install gensim"
      ],
      "execution_count": 0,
      "outputs": []
    },
    {
      "metadata": {
        "id": "1vzvgsfmzyCT",
        "colab_type": "code",
        "colab": {}
      },
      "cell_type": "code",
      "source": [
        "from gensim.models.keyedvectors import KeyedVectors\n",
        "#import gensim.models.keyedvectors as kv"
      ],
      "execution_count": 0,
      "outputs": []
    },
    {
      "metadata": {
        "id": "wnZfrHXXoeJQ",
        "colab_type": "code",
        "colab": {}
      },
      "cell_type": "code",
      "source": [
        "#!rm cc.de.300.*"
      ],
      "execution_count": 0,
      "outputs": []
    },
    {
      "metadata": {
        "id": "orXQo3Gdz_vu",
        "colab_type": "code",
        "colab": {}
      },
      "cell_type": "code",
      "source": [
        "#model=KeyedVectors.load_word2vec_format(\"cc.de.300.vec.gz\",binary=False)\n",
        "#model=KeyedVectors.load_word2vec_format(\"https://s3-us-west-1.amazonaws.com/fasttext-vectors/word-vectors-v2/cc.de.300.vec.gz\",binary=False)"
      ],
      "execution_count": 0,
      "outputs": []
    },
    {
      "metadata": {
        "id": "3atcP_bHEK28",
        "colab_type": "code",
        "colab": {}
      },
      "cell_type": "code",
      "source": [
        "#del(model)"
      ],
      "execution_count": 0,
      "outputs": []
    },
    {
      "metadata": {
        "id": "ZqL8NSkqKULU",
        "colab_type": "code",
        "colab": {}
      },
      "cell_type": "code",
      "source": [
        "weights=np.random.random((5,30))"
      ],
      "execution_count": 0,
      "outputs": []
    },
    {
      "metadata": {
        "id": "JF3htyf4KWTQ",
        "colab_type": "code",
        "colab": {
          "base_uri": "https://localhost:8080/",
          "height": 35
        },
        "outputId": "354d142c-e72e-4dde-c059-c6547d75aa9e"
      },
      "cell_type": "code",
      "source": [
        "model"
      ],
      "execution_count": 31,
      "outputs": [
        {
          "output_type": "execute_result",
          "data": {
            "text/plain": [
              "<keras.engine.training.Model at 0x7fd18a4a33c8>"
            ]
          },
          "metadata": {
            "tags": []
          },
          "execution_count": 31
        }
      ]
    },
    {
      "metadata": {
        "id": "Qe8Sg7_Fp-Yr",
        "colab_type": "code",
        "colab": {}
      },
      "cell_type": "code",
      "source": [
        "\n",
        "from gensim.models.keyedvectors import KeyedVectors \n",
        "gmodel=KeyedVectors.load(\"Savedvecs.gz\")\n",
        "weights=np.random.random((len(tokenizer.word_index)+1,300))\n",
        "for token in tokenizer.word_index:\n",
        "  if token in gmodel:\n",
        "    weights[tokenizer.word_index[token]]=gmodel[token]\n",
        "  "
      ],
      "execution_count": 0,
      "outputs": []
    },
    {
      "metadata": {
        "id": "Nna1wYyRaTPq",
        "colab_type": "code",
        "colab": {
          "base_uri": "https://localhost:8080/",
          "height": 35
        },
        "outputId": "a8875e3d-0f72-4c95-9bba-d974a5441624"
      },
      "cell_type": "code",
      "source": [
        "weights.shape"
      ],
      "execution_count": 66,
      "outputs": [
        {
          "output_type": "execute_result",
          "data": {
            "text/plain": [
              "(50491, 300)"
            ]
          },
          "metadata": {
            "tags": []
          },
          "execution_count": 66
        }
      ]
    },
    {
      "metadata": {
        "id": "Jp_zIkUeKkRY",
        "colab_type": "code",
        "colab": {
          "base_uri": "https://localhost:8080/",
          "height": 251
        },
        "outputId": "c4753602-8351-4cd1-8cdb-7f2f07678686"
      },
      "cell_type": "code",
      "source": [
        "weights"
      ],
      "execution_count": 36,
      "outputs": [
        {
          "output_type": "execute_result",
          "data": {
            "text/plain": [
              "array([[ 0.32606257,  0.31952443,  0.5724918 , ...,  0.61112887,\n",
              "         0.14428032,  0.63668434],\n",
              "       [-0.0257    ,  0.0093    , -0.0562    , ...,  0.0404    ,\n",
              "        -0.0495    , -0.0133    ],\n",
              "       [-0.0354    , -0.0088    , -0.018     , ..., -0.0606    ,\n",
              "        -0.1096    ,  0.0739    ],\n",
              "       ...,\n",
              "       [ 0.85787064,  0.01113347,  0.19147647, ...,  0.44606168,\n",
              "         0.5597976 ,  0.06696565],\n",
              "       [ 0.8124987 ,  0.75546648,  0.32687834, ...,  0.02963436,\n",
              "         0.53246644,  0.51197454],\n",
              "       [ 0.0064    , -0.0098    ,  0.0024    , ...,  0.01      ,\n",
              "        -0.0088    ,  0.0015    ]])"
            ]
          },
          "metadata": {
            "tags": []
          },
          "execution_count": 36
        }
      ]
    },
    {
      "metadata": {
        "id": "6KNfmKBE0oxW",
        "colab_type": "code",
        "colab": {}
      },
      "cell_type": "code",
      "source": [
        ""
      ],
      "execution_count": 0,
      "outputs": []
    },
    {
      "metadata": {
        "id": "pMKyQHcDqHN9",
        "colab_type": "code",
        "colab": {}
      },
      "cell_type": "code",
      "source": [
        "embedding=model.get_keras_embedding()"
      ],
      "execution_count": 0,
      "outputs": []
    },
    {
      "metadata": {
        "id": "KHvXAw8eBJrY",
        "colab_type": "code",
        "colab": {}
      },
      "cell_type": "code",
      "source": [
        "from keras.models import Model"
      ],
      "execution_count": 0,
      "outputs": []
    },
    {
      "metadata": {
        "id": "gDz8yHWaPwg8",
        "colab_type": "code",
        "outputId": "93291609-80bc-48e1-a254-8fe188ac298d",
        "colab": {
          "base_uri": "https://localhost:8080/",
          "height": 359
        }
      },
      "cell_type": "code",
      "source": [
        "from keras.layers import Conv1D, GlobalMaxPooling1D, Flatten\n",
        "from keras.layers import Dense, Input, LSTM, Embedding, Dropout, Activation, TimeDistributed, Bidirectional\n",
        "\n",
        "sequence_input = Input(shape=(35,), dtype='int32')\n",
        "#embedded_sequences = embedding(sequence_input)\n",
        "embedded_sequences=Embedding(50491,300, weights=[weights],mask_zero=True)(sequence_input)\n",
        "x = Bidirectional(LSTM(100,return_sequences=True))(embedded_sequences)\n",
        "x = Dropout(0.5)(x)\n",
        "x = Bidirectional(LSTM(128,return_sequences=True))(x)\n",
        "embed2= Embedding(50491, output_dim=700,mask_zero=True)(sequence_input)\n",
        "x2= Bidirectional(LSTM(128,return_sequences=True))(embed2)\n",
        "x2 = Dropout(0.5)(x2)\n",
        "x2= Bidirectional(LSTM(128,return_sequences=True))(x2)\n",
        "x = keras.layers.concatenate([x, x2])\n",
        "x = Dropout(0.5)(x)\n",
        "x = Bidirectional(LSTM(128,return_sequences=True))(x)\n",
        "x = Dropout(0.5)(x)\n",
        "x = Bidirectional(LSTM(64,return_sequences=True))(x)\n",
        "preds = TimeDistributed(Dense(numoftags+1,activation=\"softmax\"))(x)\n",
        "\n",
        "model = Model(sequence_input, preds)\n",
        "model.compile(loss='categorical_crossentropy', optimizer='rmsprop', metrics=['acc'])\n",
        "model.fit(X1, Y, epochs=100, batch_size=256, validation_split=0.1)\n"
      ],
      "execution_count": 0,
      "outputs": [
        {
          "output_type": "stream",
          "text": [
            "Train on 14030 samples, validate on 1559 samples\n",
            "Epoch 1/100\n",
            "14030/14030 [==============================] - 161s 11ms/step - loss: 2.1199 - acc: 0.2827 - val_loss: 1.4871 - val_acc: 0.5163\n",
            "Epoch 2/100\n",
            "14030/14030 [==============================] - 125s 9ms/step - loss: 0.9459 - acc: 0.7010 - val_loss: 0.5614 - val_acc: 0.8273\n",
            "Epoch 3/100\n",
            "14030/14030 [==============================] - 125s 9ms/step - loss: 0.3840 - acc: 0.8896 - val_loss: 0.3222 - val_acc: 0.9052\n",
            "Epoch 4/100\n",
            "14030/14030 [==============================] - 125s 9ms/step - loss: 0.2281 - acc: 0.9359 - val_loss: 0.2782 - val_acc: 0.9176\n",
            "Epoch 5/100\n",
            "14030/14030 [==============================] - 123s 9ms/step - loss: 0.1667 - acc: 0.9529 - val_loss: 0.2593 - val_acc: 0.9231\n",
            "Epoch 6/100\n",
            "14030/14030 [==============================] - 123s 9ms/step - loss: 0.1363 - acc: 0.9613 - val_loss: 0.2596 - val_acc: 0.9248\n",
            "Epoch 7/100\n",
            "14030/14030 [==============================] - 124s 9ms/step - loss: 0.1159 - acc: 0.9666 - val_loss: 0.2743 - val_acc: 0.9236\n",
            "Epoch 8/100\n",
            "14030/14030 [==============================] - 125s 9ms/step - loss: 0.0986 - acc: 0.9713 - val_loss: 0.2916 - val_acc: 0.9197\n",
            "Epoch 9/100\n",
            " 9472/14030 [===================>..........] - ETA: 39s - loss: 0.0824 - acc: 0.9765"
          ],
          "name": "stdout"
        }
      ]
    },
    {
      "metadata": {
        "id": "UendiMKM54V4",
        "colab_type": "code",
        "colab": {}
      },
      "cell_type": "code",
      "source": [
        "\"\"\"from keras.models import Sequential\n",
        "from keras.layers import Conv1D, GlobalMaxPooling1D, Flatten\n",
        "from keras.layers import Dense, Input, LSTM, Embedding, Dropout, Activation, TimeDistributed, Bidirectional\n",
        "\n",
        "model = Sequential()\n",
        "model.add(Input(dtype='int32',tensor=X1))\n",
        "model.add(embedding)\n",
        "model.add(Dropout(0.2))\n",
        "model.add(Conv1D(300, 3, padding='valid',activation='relu',strides=2))\n",
        "model.add(Conv1D(150, 3, padding='valid',activation='relu',strides=2))\n",
        "model.add(Conv1D(75, 3, padding='valid',activation='relu',strides=2))\n",
        "model.add(GlobalMaxPooling1D())\n",
        "model.add(Dropout(0.2))\n",
        "model.add(TimeDistributed(Dense(150,activation='sigmoid')))\n",
        "model.add(Dropout(0.2))\n",
        "model.add(TimeDistributed(Dense(numoftags,activation='sigmoid')))\n",
        "\n",
        "model.compile(loss='categorical_crossentropy',optimizer='rmsprop',metrics=['acc'])\n",
        "\n",
        "model.summary()\"\"\""
      ],
      "execution_count": 0,
      "outputs": []
    },
    {
      "metadata": {
        "id": "RuzlhviHHJuv",
        "colab_type": "code",
        "colab": {}
      },
      "cell_type": "code",
      "source": [
        "X1.max()"
      ],
      "execution_count": 0,
      "outputs": []
    },
    {
      "metadata": {
        "id": "-FtRylu6BCKw",
        "colab_type": "code",
        "colab": {}
      },
      "cell_type": "code",
      "source": [
        "#keras.layers.TimeDistributed()\n",
        "model_1 = Sequential()\n",
        "model_1.add(Input((50,)))\n",
        "model_1.add(embedding(X1))\n",
        "model_1.add(Bidirectional(LSTM(256,return_sequences=True)))\n",
        "model_1.add(Bidirectional(LSTM(256,return_sequences=True)))\n",
        "model_1.add(TimeDistributed(Dense(250)))\n",
        "model_1.add(Dropout(0.2))\n",
        "model_1.add(Activation('relu'))\n",
        "model_1.add(TimeDistributed(Dense(numoftags+1,activation=\"softmax\")))\n",
        "#model_1.add(Activation('sigmoid'))\n",
        "model_1.compile(loss='categorical_crossentropy',optimizer='rmsprop',metrics=['acc'])\n",
        "model_1.summary()"
      ],
      "execution_count": 0,
      "outputs": []
    },
    {
      "metadata": {
        "id": "bcyFohx_CY_D",
        "colab_type": "code",
        "colab": {}
      },
      "cell_type": "code",
      "source": [
        "\n",
        "model.fit(x_train, y_train)#, validation_data=(x_val, y_val), epochs=2, batch_size=128)\n",
        "score = model.evaluate(x_val, y_val, verbose=0)\n",
        "print('Test loss:', score[0])\n",
        "print('Test accuracy:', score[1])"
      ],
      "execution_count": 0,
      "outputs": []
    },
    {
      "metadata": {
        "id": "Zgl5zpAyCkDB",
        "colab_type": "code",
        "colab": {}
      },
      "cell_type": "code",
      "source": [
        "model_1.fit(X1, Y, validation_data=(EX, EY), epochs=100, batch_size=128)\n",
        "score = model_1.evaluate(EX, EY, verbose=0)\n",
        "print('Test loss:', score[0])\n",
        "print('Test accuracy:', score[1])"
      ],
      "execution_count": 0,
      "outputs": []
    },
    {
      "metadata": {
        "id": "jgnB6ofrWX5-",
        "colab_type": "code",
        "colab": {}
      },
      "cell_type": "code",
      "source": [
        "#for slice in Y:\n",
        " ä print(slice.shape)"
      ],
      "execution_count": 0,
      "outputs": []
    },
    {
      "metadata": {
        "id": "6u4-BPUz0N7a",
        "colab_type": "code",
        "colab": {}
      },
      "cell_type": "code",
      "source": [
        ""
      ],
      "execution_count": 0,
      "outputs": []
    },
    {
      "metadata": {
        "id": "VrOTUnjmr6Ga",
        "colab_type": "code",
        "colab": {}
      },
      "cell_type": "code",
      "source": [
        "X1"
      ],
      "execution_count": 0,
      "outputs": []
    },
    {
      "metadata": {
        "id": "K-lih8hOrfOx",
        "colab_type": "code",
        "colab": {}
      },
      "cell_type": "code",
      "source": [
        "X1=tokenizer.sequences_to_matrix(train)"
      ],
      "execution_count": 0,
      "outputs": []
    },
    {
      "metadata": {
        "id": "Yp2cSHcymHj8",
        "colab_type": "code",
        "colab": {}
      },
      "cell_type": "code",
      "source": [
        "#Verwenden wir lieber mal testweise ein BiLSTM"
      ],
      "execution_count": 0,
      "outputs": []
    },
    {
      "metadata": {
        "id": "bXWr2Vb6gaDm",
        "colab_type": "code",
        "colab": {}
      },
      "cell_type": "code",
      "source": [
        ""
      ],
      "execution_count": 0,
      "outputs": []
    },
    {
      "metadata": {
        "id": "1QsVxDAaf_51",
        "colab_type": "code",
        "colab": {}
      },
      "cell_type": "code",
      "source": [
        ""
      ],
      "execution_count": 0,
      "outputs": []
    },
    {
      "metadata": {
        "id": "b7cC35qLf3_n",
        "colab_type": "code",
        "colab": {}
      },
      "cell_type": "code",
      "source": [
        ""
      ],
      "execution_count": 0,
      "outputs": []
    },
    {
      "metadata": {
        "id": "mVLc-jMJfyyt",
        "colab_type": "code",
        "colab": {}
      },
      "cell_type": "code",
      "source": [
        ""
      ],
      "execution_count": 0,
      "outputs": []
    },
    {
      "metadata": {
        "id": "xQHQDv2udXqm",
        "colab_type": "code",
        "colab": {}
      },
      "cell_type": "code",
      "source": [
        ""
      ],
      "execution_count": 0,
      "outputs": []
    },
    {
      "metadata": {
        "id": "hHx73yH6dZbC",
        "colab_type": "code",
        "colab": {}
      },
      "cell_type": "code",
      "source": [
        ""
      ],
      "execution_count": 0,
      "outputs": []
    }
  ]
}